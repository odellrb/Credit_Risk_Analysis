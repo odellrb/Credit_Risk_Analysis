{
 "cells": [
  {
   "cell_type": "code",
   "execution_count": 1,
   "metadata": {},
   "outputs": [
    {
     "name": "stdout",
     "output_type": "stream",
     "text": [
      "Requirement already satisfied: imbalanced-learn==0.9.0 in /Users/richardodell/opt/anaconda3/envs/mlenv/lib/python3.7/site-packages (0.9.0)\n",
      "Requirement already satisfied: scikit-learn>=1.0.1 in /Users/richardodell/opt/anaconda3/envs/mlenv/lib/python3.7/site-packages (from imbalanced-learn==0.9.0) (1.0.1)\n",
      "Requirement already satisfied: threadpoolctl>=2.0.0 in /Users/richardodell/opt/anaconda3/envs/mlenv/lib/python3.7/site-packages (from imbalanced-learn==0.9.0) (2.2.0)\n",
      "Requirement already satisfied: numpy>=1.14.6 in /Users/richardodell/opt/anaconda3/envs/mlenv/lib/python3.7/site-packages (from imbalanced-learn==0.9.0) (1.21.5)\n",
      "Requirement already satisfied: joblib>=0.11 in /Users/richardodell/opt/anaconda3/envs/mlenv/lib/python3.7/site-packages (from imbalanced-learn==0.9.0) (1.1.0)\n",
      "Requirement already satisfied: scipy>=1.1.0 in /Users/richardodell/opt/anaconda3/envs/mlenv/lib/python3.7/site-packages (from imbalanced-learn==0.9.0) (1.7.3)\n",
      "Note: you may need to restart the kernel to use updated packages.\n"
     ]
    }
   ],
   "source": [
    "pip install imbalanced-learn==0.9.0"
   ]
  },
  {
   "cell_type": "code",
   "execution_count": 2,
   "metadata": {},
   "outputs": [
    {
     "name": "stdout",
     "output_type": "stream",
     "text": [
      "Requirement already satisfied: scikit-learn==1.0.1 in /Users/richardodell/opt/anaconda3/envs/mlenv/lib/python3.7/site-packages (1.0.1)\n",
      "Requirement already satisfied: scipy>=1.1.0 in /Users/richardodell/opt/anaconda3/envs/mlenv/lib/python3.7/site-packages (from scikit-learn==1.0.1) (1.7.3)\n",
      "Requirement already satisfied: numpy>=1.14.6 in /Users/richardodell/opt/anaconda3/envs/mlenv/lib/python3.7/site-packages (from scikit-learn==1.0.1) (1.21.5)\n",
      "Requirement already satisfied: joblib>=0.11 in /Users/richardodell/opt/anaconda3/envs/mlenv/lib/python3.7/site-packages (from scikit-learn==1.0.1) (1.1.0)\n",
      "Requirement already satisfied: threadpoolctl>=2.0.0 in /Users/richardodell/opt/anaconda3/envs/mlenv/lib/python3.7/site-packages (from scikit-learn==1.0.1) (2.2.0)\n",
      "Note: you may need to restart the kernel to use updated packages.\n"
     ]
    }
   ],
   "source": [
    "pip install scikit-learn==1.0.1"
   ]
  },
  {
   "cell_type": "code",
   "execution_count": 3,
   "metadata": {},
   "outputs": [],
   "source": [
    "import warnings\n",
    "warnings.filterwarnings('ignore')"
   ]
  },
  {
   "cell_type": "code",
   "execution_count": 4,
   "metadata": {},
   "outputs": [],
   "source": [
    "import numpy as np\n",
    "import pandas as pd\n",
    "from pathlib import Path\n",
    "from collections import Counter\n",
    "import matplotlib.pyplot as plt"
   ]
  },
  {
   "cell_type": "code",
   "execution_count": 5,
   "metadata": {},
   "outputs": [],
   "source": [
    "from sklearn.metrics import balanced_accuracy_score\n",
    "from sklearn.metrics import confusion_matrix\n",
    "from imblearn.metrics import classification_report_imbalanced\n",
    "from sklearn.model_selection import train_test_split\n",
    "from sklearn.preprocessing import StandardScaler\n",
    "from sklearn.metrics import ConfusionMatrixDisplay"
   ]
  },
  {
   "cell_type": "code",
   "execution_count": 6,
   "metadata": {},
   "outputs": [],
   "source": [
    "from imblearn.ensemble import BalancedRandomForestClassifier\n",
    "from imblearn.ensemble import EasyEnsembleClassifier\n",
    "from imblearn.metrics import classification_report_imbalanced\n"
   ]
  },
  {
   "cell_type": "markdown",
   "metadata": {},
   "source": [
    "# Read the CSV and Perform Basic Data Cleaning"
   ]
  },
  {
   "cell_type": "code",
   "execution_count": 7,
   "metadata": {},
   "outputs": [],
   "source": [
    "# https://help.lendingclub.com/hc/en-us/articles/215488038-What-do-the-different-Note-statuses-mean-\n",
    "\n",
    "columns = [\n",
    "    \"loan_amnt\", \"int_rate\", \"installment\", \"home_ownership\",\n",
    "    \"annual_inc\", \"verification_status\", \"issue_d\", \"loan_status\",\n",
    "    \"pymnt_plan\", \"dti\", \"delinq_2yrs\", \"inq_last_6mths\",\n",
    "    \"open_acc\", \"pub_rec\", \"revol_bal\", \"total_acc\",\n",
    "    \"initial_list_status\", \"out_prncp\", \"out_prncp_inv\", \"total_pymnt\",\n",
    "    \"total_pymnt_inv\", \"total_rec_prncp\", \"total_rec_int\", \"total_rec_late_fee\",\n",
    "    \"recoveries\", \"collection_recovery_fee\", \"last_pymnt_amnt\", \"next_pymnt_d\",\n",
    "    \"collections_12_mths_ex_med\", \"policy_code\", \"application_type\", \"acc_now_delinq\",\n",
    "    \"tot_coll_amt\", \"tot_cur_bal\", \"open_acc_6m\", \"open_act_il\",\n",
    "    \"open_il_12m\", \"open_il_24m\", \"mths_since_rcnt_il\", \"total_bal_il\",\n",
    "    \"il_util\", \"open_rv_12m\", \"open_rv_24m\", \"max_bal_bc\",\n",
    "    \"all_util\", \"total_rev_hi_lim\", \"inq_fi\", \"total_cu_tl\",\n",
    "    \"inq_last_12m\", \"acc_open_past_24mths\", \"avg_cur_bal\", \"bc_open_to_buy\",\n",
    "    \"bc_util\", \"chargeoff_within_12_mths\", \"delinq_amnt\", \"mo_sin_old_il_acct\",\n",
    "    \"mo_sin_old_rev_tl_op\", \"mo_sin_rcnt_rev_tl_op\", \"mo_sin_rcnt_tl\", \"mort_acc\",\n",
    "    \"mths_since_recent_bc\", \"mths_since_recent_inq\", \"num_accts_ever_120_pd\", \"num_actv_bc_tl\",\n",
    "    \"num_actv_rev_tl\", \"num_bc_sats\", \"num_bc_tl\", \"num_il_tl\",\n",
    "    \"num_op_rev_tl\", \"num_rev_accts\", \"num_rev_tl_bal_gt_0\",\n",
    "    \"num_sats\", \"num_tl_120dpd_2m\", \"num_tl_30dpd\", \"num_tl_90g_dpd_24m\",\n",
    "    \"num_tl_op_past_12m\", \"pct_tl_nvr_dlq\", \"percent_bc_gt_75\", \"pub_rec_bankruptcies\",\n",
    "    \"tax_liens\", \"tot_hi_cred_lim\", \"total_bal_ex_mort\", \"total_bc_limit\",\n",
    "    \"total_il_high_credit_limit\", \"hardship_flag\", \"debt_settlement_flag\"\n",
    "]\n",
    "\n",
    "target = [\"loan_status\"]"
   ]
  },
  {
   "cell_type": "code",
   "execution_count": 8,
   "metadata": {},
   "outputs": [
    {
     "data": {
      "text/html": [
       "<div>\n",
       "<style scoped>\n",
       "    .dataframe tbody tr th:only-of-type {\n",
       "        vertical-align: middle;\n",
       "    }\n",
       "\n",
       "    .dataframe tbody tr th {\n",
       "        vertical-align: top;\n",
       "    }\n",
       "\n",
       "    .dataframe thead th {\n",
       "        text-align: right;\n",
       "    }\n",
       "</style>\n",
       "<table border=\"1\" class=\"dataframe\">\n",
       "  <thead>\n",
       "    <tr style=\"text-align: right;\">\n",
       "      <th></th>\n",
       "      <th>loan_amnt</th>\n",
       "      <th>int_rate</th>\n",
       "      <th>installment</th>\n",
       "      <th>home_ownership</th>\n",
       "      <th>annual_inc</th>\n",
       "      <th>verification_status</th>\n",
       "      <th>issue_d</th>\n",
       "      <th>loan_status</th>\n",
       "      <th>dti</th>\n",
       "      <th>delinq_2yrs</th>\n",
       "      <th>...</th>\n",
       "      <th>num_tl_90g_dpd_24m</th>\n",
       "      <th>num_tl_op_past_12m</th>\n",
       "      <th>pct_tl_nvr_dlq</th>\n",
       "      <th>percent_bc_gt_75</th>\n",
       "      <th>pub_rec_bankruptcies</th>\n",
       "      <th>tax_liens</th>\n",
       "      <th>tot_hi_cred_lim</th>\n",
       "      <th>total_bal_ex_mort</th>\n",
       "      <th>total_bc_limit</th>\n",
       "      <th>total_il_high_credit_limit</th>\n",
       "    </tr>\n",
       "  </thead>\n",
       "  <tbody>\n",
       "    <tr>\n",
       "      <th>0</th>\n",
       "      <td>10500.0</td>\n",
       "      <td>0.1719</td>\n",
       "      <td>375.35</td>\n",
       "      <td>RENT</td>\n",
       "      <td>66000.0</td>\n",
       "      <td>Source Verified</td>\n",
       "      <td>Mar-2019</td>\n",
       "      <td>low_risk</td>\n",
       "      <td>27.24</td>\n",
       "      <td>0.0</td>\n",
       "      <td>...</td>\n",
       "      <td>0.0</td>\n",
       "      <td>3.0</td>\n",
       "      <td>85.7</td>\n",
       "      <td>100.0</td>\n",
       "      <td>0.0</td>\n",
       "      <td>0.0</td>\n",
       "      <td>65687.0</td>\n",
       "      <td>38199.0</td>\n",
       "      <td>2000.0</td>\n",
       "      <td>61987.0</td>\n",
       "    </tr>\n",
       "    <tr>\n",
       "      <th>1</th>\n",
       "      <td>25000.0</td>\n",
       "      <td>0.2000</td>\n",
       "      <td>929.09</td>\n",
       "      <td>MORTGAGE</td>\n",
       "      <td>105000.0</td>\n",
       "      <td>Verified</td>\n",
       "      <td>Mar-2019</td>\n",
       "      <td>low_risk</td>\n",
       "      <td>20.23</td>\n",
       "      <td>0.0</td>\n",
       "      <td>...</td>\n",
       "      <td>0.0</td>\n",
       "      <td>6.0</td>\n",
       "      <td>91.2</td>\n",
       "      <td>50.0</td>\n",
       "      <td>1.0</td>\n",
       "      <td>0.0</td>\n",
       "      <td>271427.0</td>\n",
       "      <td>60641.0</td>\n",
       "      <td>41200.0</td>\n",
       "      <td>49197.0</td>\n",
       "    </tr>\n",
       "    <tr>\n",
       "      <th>2</th>\n",
       "      <td>20000.0</td>\n",
       "      <td>0.2000</td>\n",
       "      <td>529.88</td>\n",
       "      <td>MORTGAGE</td>\n",
       "      <td>56000.0</td>\n",
       "      <td>Verified</td>\n",
       "      <td>Mar-2019</td>\n",
       "      <td>low_risk</td>\n",
       "      <td>24.26</td>\n",
       "      <td>0.0</td>\n",
       "      <td>...</td>\n",
       "      <td>0.0</td>\n",
       "      <td>4.0</td>\n",
       "      <td>66.7</td>\n",
       "      <td>50.0</td>\n",
       "      <td>0.0</td>\n",
       "      <td>0.0</td>\n",
       "      <td>60644.0</td>\n",
       "      <td>45684.0</td>\n",
       "      <td>7500.0</td>\n",
       "      <td>43144.0</td>\n",
       "    </tr>\n",
       "    <tr>\n",
       "      <th>3</th>\n",
       "      <td>10000.0</td>\n",
       "      <td>0.1640</td>\n",
       "      <td>353.55</td>\n",
       "      <td>RENT</td>\n",
       "      <td>92000.0</td>\n",
       "      <td>Verified</td>\n",
       "      <td>Mar-2019</td>\n",
       "      <td>low_risk</td>\n",
       "      <td>31.44</td>\n",
       "      <td>0.0</td>\n",
       "      <td>...</td>\n",
       "      <td>0.0</td>\n",
       "      <td>1.0</td>\n",
       "      <td>100.0</td>\n",
       "      <td>50.0</td>\n",
       "      <td>1.0</td>\n",
       "      <td>0.0</td>\n",
       "      <td>99506.0</td>\n",
       "      <td>68784.0</td>\n",
       "      <td>19700.0</td>\n",
       "      <td>76506.0</td>\n",
       "    </tr>\n",
       "    <tr>\n",
       "      <th>4</th>\n",
       "      <td>22000.0</td>\n",
       "      <td>0.1474</td>\n",
       "      <td>520.39</td>\n",
       "      <td>MORTGAGE</td>\n",
       "      <td>52000.0</td>\n",
       "      <td>Not Verified</td>\n",
       "      <td>Mar-2019</td>\n",
       "      <td>low_risk</td>\n",
       "      <td>18.76</td>\n",
       "      <td>0.0</td>\n",
       "      <td>...</td>\n",
       "      <td>0.0</td>\n",
       "      <td>1.0</td>\n",
       "      <td>100.0</td>\n",
       "      <td>0.0</td>\n",
       "      <td>0.0</td>\n",
       "      <td>0.0</td>\n",
       "      <td>219750.0</td>\n",
       "      <td>25919.0</td>\n",
       "      <td>27600.0</td>\n",
       "      <td>20000.0</td>\n",
       "    </tr>\n",
       "  </tbody>\n",
       "</table>\n",
       "<p>5 rows × 83 columns</p>\n",
       "</div>"
      ],
      "text/plain": [
       "   loan_amnt  int_rate  installment home_ownership  annual_inc  \\\n",
       "0    10500.0    0.1719       375.35           RENT     66000.0   \n",
       "1    25000.0    0.2000       929.09       MORTGAGE    105000.0   \n",
       "2    20000.0    0.2000       529.88       MORTGAGE     56000.0   \n",
       "3    10000.0    0.1640       353.55           RENT     92000.0   \n",
       "4    22000.0    0.1474       520.39       MORTGAGE     52000.0   \n",
       "\n",
       "  verification_status   issue_d loan_status    dti  delinq_2yrs  ...  \\\n",
       "0     Source Verified  Mar-2019    low_risk  27.24          0.0  ...   \n",
       "1            Verified  Mar-2019    low_risk  20.23          0.0  ...   \n",
       "2            Verified  Mar-2019    low_risk  24.26          0.0  ...   \n",
       "3            Verified  Mar-2019    low_risk  31.44          0.0  ...   \n",
       "4        Not Verified  Mar-2019    low_risk  18.76          0.0  ...   \n",
       "\n",
       "   num_tl_90g_dpd_24m  num_tl_op_past_12m  pct_tl_nvr_dlq  percent_bc_gt_75  \\\n",
       "0                 0.0                 3.0            85.7             100.0   \n",
       "1                 0.0                 6.0            91.2              50.0   \n",
       "2                 0.0                 4.0            66.7              50.0   \n",
       "3                 0.0                 1.0           100.0              50.0   \n",
       "4                 0.0                 1.0           100.0               0.0   \n",
       "\n",
       "   pub_rec_bankruptcies tax_liens  tot_hi_cred_lim  total_bal_ex_mort  \\\n",
       "0                   0.0       0.0          65687.0            38199.0   \n",
       "1                   1.0       0.0         271427.0            60641.0   \n",
       "2                   0.0       0.0          60644.0            45684.0   \n",
       "3                   1.0       0.0          99506.0            68784.0   \n",
       "4                   0.0       0.0         219750.0            25919.0   \n",
       "\n",
       "   total_bc_limit  total_il_high_credit_limit  \n",
       "0          2000.0                     61987.0  \n",
       "1         41200.0                     49197.0  \n",
       "2          7500.0                     43144.0  \n",
       "3         19700.0                     76506.0  \n",
       "4         27600.0                     20000.0  \n",
       "\n",
       "[5 rows x 83 columns]"
      ]
     },
     "execution_count": 8,
     "metadata": {},
     "output_type": "execute_result"
    }
   ],
   "source": [
    "# Load the data\n",
    "file_path = Path('./Resources/clean_loans.csv')\n",
    "df = pd.read_csv(file_path)\n",
    "# df = df.loc[:, columns].copy()\n",
    "\n",
    "# # Drop the null columns where all values are null\n",
    "# df = df.dropna(axis='columns', how='all')\n",
    "\n",
    "# # Drop the null rows\n",
    "# df = df.dropna()\n",
    "\n",
    "# # Remove the `Issued` loan status\n",
    "# issued_mask = df['loan_status'] != 'Issued'\n",
    "# df = df.loc[issued_mask]\n",
    "\n",
    "# # convert interest rate to numerical\n",
    "# df['int_rate'] = df['int_rate'].str.replace('%', '')\n",
    "# df['int_rate'] = df['int_rate'].astype('float') / 100\n",
    "\n",
    "\n",
    "# # Convert the target column values to low_risk and high_risk based on their values\n",
    "# x = {'Current': 'low_risk'}   \n",
    "# df = df.replace(x)\n",
    "\n",
    "# x = dict.fromkeys(['Late (31-120 days)', 'Late (16-30 days)', 'Default', 'In Grace Period'], 'high_risk')    \n",
    "# df = df.replace(x)\n",
    "\n",
    "# df.reset_index(inplace=True, drop=True)\n",
    "\n",
    "df.head()"
   ]
  },
  {
   "cell_type": "markdown",
   "metadata": {},
   "source": [
    "# Split the Data into Training and Testing"
   ]
  },
  {
   "cell_type": "code",
   "execution_count": 9,
   "metadata": {},
   "outputs": [
    {
     "name": "stdout",
     "output_type": "stream",
     "text": [
      "<class 'pandas.core.frame.DataFrame'>\n",
      "RangeIndex: 68817 entries, 0 to 68816\n",
      "Data columns (total 82 columns):\n",
      " #   Column                      Non-Null Count  Dtype  \n",
      "---  ------                      --------------  -----  \n",
      " 0   loan_amnt                   68817 non-null  float64\n",
      " 1   int_rate                    68817 non-null  float64\n",
      " 2   installment                 68817 non-null  float64\n",
      " 3   home_ownership              68817 non-null  object \n",
      " 4   annual_inc                  68817 non-null  float64\n",
      " 5   verification_status         68817 non-null  object \n",
      " 6   issue_d                     68817 non-null  object \n",
      " 7   dti                         68817 non-null  float64\n",
      " 8   delinq_2yrs                 68817 non-null  float64\n",
      " 9   inq_last_6mths              68817 non-null  float64\n",
      " 10  open_acc                    68817 non-null  float64\n",
      " 11  pub_rec                     68817 non-null  float64\n",
      " 12  revol_bal                   68817 non-null  float64\n",
      " 13  total_acc                   68817 non-null  float64\n",
      " 14  initial_list_status         68817 non-null  object \n",
      " 15  out_prncp                   68817 non-null  float64\n",
      " 16  out_prncp_inv               68817 non-null  float64\n",
      " 17  total_pymnt                 68817 non-null  float64\n",
      " 18  total_pymnt_inv             68817 non-null  float64\n",
      " 19  total_rec_prncp             68817 non-null  float64\n",
      " 20  total_rec_int               68817 non-null  float64\n",
      " 21  total_rec_late_fee          68817 non-null  float64\n",
      " 22  recoveries                  68817 non-null  float64\n",
      " 23  collection_recovery_fee     68817 non-null  float64\n",
      " 24  last_pymnt_amnt             68817 non-null  float64\n",
      " 25  next_pymnt_d                68817 non-null  object \n",
      " 26  collections_12_mths_ex_med  68817 non-null  float64\n",
      " 27  policy_code                 68817 non-null  float64\n",
      " 28  application_type            68817 non-null  object \n",
      " 29  acc_now_delinq              68817 non-null  float64\n",
      " 30  tot_coll_amt                68817 non-null  float64\n",
      " 31  tot_cur_bal                 68817 non-null  float64\n",
      " 32  open_acc_6m                 68817 non-null  float64\n",
      " 33  open_act_il                 68817 non-null  float64\n",
      " 34  open_il_12m                 68817 non-null  float64\n",
      " 35  open_il_24m                 68817 non-null  float64\n",
      " 36  mths_since_rcnt_il          68817 non-null  float64\n",
      " 37  total_bal_il                68817 non-null  float64\n",
      " 38  il_util                     68817 non-null  float64\n",
      " 39  open_rv_12m                 68817 non-null  float64\n",
      " 40  open_rv_24m                 68817 non-null  float64\n",
      " 41  max_bal_bc                  68817 non-null  float64\n",
      " 42  all_util                    68817 non-null  float64\n",
      " 43  total_rev_hi_lim            68817 non-null  float64\n",
      " 44  inq_fi                      68817 non-null  float64\n",
      " 45  total_cu_tl                 68817 non-null  float64\n",
      " 46  inq_last_12m                68817 non-null  float64\n",
      " 47  acc_open_past_24mths        68817 non-null  float64\n",
      " 48  avg_cur_bal                 68817 non-null  float64\n",
      " 49  bc_open_to_buy              68817 non-null  float64\n",
      " 50  bc_util                     68817 non-null  float64\n",
      " 51  chargeoff_within_12_mths    68817 non-null  float64\n",
      " 52  delinq_amnt                 68817 non-null  float64\n",
      " 53  mo_sin_old_il_acct          68817 non-null  float64\n",
      " 54  mo_sin_old_rev_tl_op        68817 non-null  float64\n",
      " 55  mo_sin_rcnt_rev_tl_op       68817 non-null  float64\n",
      " 56  mo_sin_rcnt_tl              68817 non-null  float64\n",
      " 57  mort_acc                    68817 non-null  float64\n",
      " 58  mths_since_recent_bc        68817 non-null  float64\n",
      " 59  mths_since_recent_inq       68817 non-null  float64\n",
      " 60  num_accts_ever_120_pd       68817 non-null  float64\n",
      " 61  num_actv_bc_tl              68817 non-null  float64\n",
      " 62  num_actv_rev_tl             68817 non-null  float64\n",
      " 63  num_bc_sats                 68817 non-null  float64\n",
      " 64  num_bc_tl                   68817 non-null  float64\n",
      " 65  num_il_tl                   68817 non-null  float64\n",
      " 66  num_op_rev_tl               68817 non-null  float64\n",
      " 67  num_rev_accts               68817 non-null  float64\n",
      " 68  num_rev_tl_bal_gt_0         68817 non-null  float64\n",
      " 69  num_sats                    68817 non-null  float64\n",
      " 70  num_tl_120dpd_2m            68817 non-null  float64\n",
      " 71  num_tl_30dpd                68817 non-null  float64\n",
      " 72  num_tl_90g_dpd_24m          68817 non-null  float64\n",
      " 73  num_tl_op_past_12m          68817 non-null  float64\n",
      " 74  pct_tl_nvr_dlq              68817 non-null  float64\n",
      " 75  percent_bc_gt_75            68817 non-null  float64\n",
      " 76  pub_rec_bankruptcies        68817 non-null  float64\n",
      " 77  tax_liens                   68817 non-null  float64\n",
      " 78  tot_hi_cred_lim             68817 non-null  float64\n",
      " 79  total_bal_ex_mort           68817 non-null  float64\n",
      " 80  total_bc_limit              68817 non-null  float64\n",
      " 81  total_il_high_credit_limit  68817 non-null  float64\n",
      "dtypes: float64(76), object(6)\n",
      "memory usage: 43.1+ MB\n"
     ]
    }
   ],
   "source": [
    "# Create our features\n",
    "X = df.drop(columns='loan_status')\n",
    "X .info()"
   ]
  },
  {
   "cell_type": "code",
   "execution_count": 10,
   "metadata": {},
   "outputs": [
    {
     "data": {
      "text/plain": [
       "low_risk     68470\n",
       "high_risk      347\n",
       "Name: loan_status, dtype: int64"
      ]
     },
     "execution_count": 10,
     "metadata": {},
     "output_type": "execute_result"
    }
   ],
   "source": [
    "# Create our target\n",
    "y = df['loan_status']\n",
    "y.value_counts()"
   ]
  },
  {
   "cell_type": "code",
   "execution_count": 11,
   "metadata": {},
   "outputs": [
    {
     "data": {
      "text/html": [
       "<div>\n",
       "<style scoped>\n",
       "    .dataframe tbody tr th:only-of-type {\n",
       "        vertical-align: middle;\n",
       "    }\n",
       "\n",
       "    .dataframe tbody tr th {\n",
       "        vertical-align: top;\n",
       "    }\n",
       "\n",
       "    .dataframe thead th {\n",
       "        text-align: right;\n",
       "    }\n",
       "</style>\n",
       "<table border=\"1\" class=\"dataframe\">\n",
       "  <thead>\n",
       "    <tr style=\"text-align: right;\">\n",
       "      <th></th>\n",
       "      <th>loan_amnt</th>\n",
       "      <th>int_rate</th>\n",
       "      <th>installment</th>\n",
       "      <th>annual_inc</th>\n",
       "      <th>dti</th>\n",
       "      <th>delinq_2yrs</th>\n",
       "      <th>inq_last_6mths</th>\n",
       "      <th>open_acc</th>\n",
       "      <th>pub_rec</th>\n",
       "      <th>revol_bal</th>\n",
       "      <th>...</th>\n",
       "      <th>num_tl_90g_dpd_24m</th>\n",
       "      <th>num_tl_op_past_12m</th>\n",
       "      <th>pct_tl_nvr_dlq</th>\n",
       "      <th>percent_bc_gt_75</th>\n",
       "      <th>pub_rec_bankruptcies</th>\n",
       "      <th>tax_liens</th>\n",
       "      <th>tot_hi_cred_lim</th>\n",
       "      <th>total_bal_ex_mort</th>\n",
       "      <th>total_bc_limit</th>\n",
       "      <th>total_il_high_credit_limit</th>\n",
       "    </tr>\n",
       "  </thead>\n",
       "  <tbody>\n",
       "    <tr>\n",
       "      <th>count</th>\n",
       "      <td>68817.000000</td>\n",
       "      <td>68817.000000</td>\n",
       "      <td>68817.000000</td>\n",
       "      <td>6.881700e+04</td>\n",
       "      <td>68817.000000</td>\n",
       "      <td>68817.000000</td>\n",
       "      <td>68817.000000</td>\n",
       "      <td>68817.000000</td>\n",
       "      <td>68817.000000</td>\n",
       "      <td>68817.000000</td>\n",
       "      <td>...</td>\n",
       "      <td>68817.000000</td>\n",
       "      <td>68817.000000</td>\n",
       "      <td>68817.000000</td>\n",
       "      <td>68817.000000</td>\n",
       "      <td>68817.000000</td>\n",
       "      <td>68817.0</td>\n",
       "      <td>6.881700e+04</td>\n",
       "      <td>6.881700e+04</td>\n",
       "      <td>68817.000000</td>\n",
       "      <td>6.881700e+04</td>\n",
       "    </tr>\n",
       "    <tr>\n",
       "      <th>mean</th>\n",
       "      <td>16677.594562</td>\n",
       "      <td>0.127718</td>\n",
       "      <td>480.652863</td>\n",
       "      <td>8.821371e+04</td>\n",
       "      <td>21.778153</td>\n",
       "      <td>0.217766</td>\n",
       "      <td>0.497697</td>\n",
       "      <td>12.587340</td>\n",
       "      <td>0.126030</td>\n",
       "      <td>17604.142828</td>\n",
       "      <td>...</td>\n",
       "      <td>0.052138</td>\n",
       "      <td>2.219423</td>\n",
       "      <td>95.057627</td>\n",
       "      <td>30.626217</td>\n",
       "      <td>0.125972</td>\n",
       "      <td>0.0</td>\n",
       "      <td>2.100332e+05</td>\n",
       "      <td>6.133843e+04</td>\n",
       "      <td>29734.128558</td>\n",
       "      <td>5.572240e+04</td>\n",
       "    </tr>\n",
       "    <tr>\n",
       "      <th>std</th>\n",
       "      <td>10277.348590</td>\n",
       "      <td>0.048130</td>\n",
       "      <td>288.062432</td>\n",
       "      <td>1.155800e+05</td>\n",
       "      <td>20.199244</td>\n",
       "      <td>0.718367</td>\n",
       "      <td>0.758122</td>\n",
       "      <td>6.022869</td>\n",
       "      <td>0.336797</td>\n",
       "      <td>21835.880400</td>\n",
       "      <td>...</td>\n",
       "      <td>0.390633</td>\n",
       "      <td>1.897432</td>\n",
       "      <td>8.326426</td>\n",
       "      <td>33.631463</td>\n",
       "      <td>0.336732</td>\n",
       "      <td>0.0</td>\n",
       "      <td>1.928088e+05</td>\n",
       "      <td>5.738798e+04</td>\n",
       "      <td>26795.394232</td>\n",
       "      <td>5.095845e+04</td>\n",
       "    </tr>\n",
       "    <tr>\n",
       "      <th>min</th>\n",
       "      <td>1000.000000</td>\n",
       "      <td>0.060000</td>\n",
       "      <td>30.890000</td>\n",
       "      <td>4.000000e+01</td>\n",
       "      <td>0.000000</td>\n",
       "      <td>0.000000</td>\n",
       "      <td>0.000000</td>\n",
       "      <td>2.000000</td>\n",
       "      <td>0.000000</td>\n",
       "      <td>0.000000</td>\n",
       "      <td>...</td>\n",
       "      <td>0.000000</td>\n",
       "      <td>0.000000</td>\n",
       "      <td>20.000000</td>\n",
       "      <td>0.000000</td>\n",
       "      <td>0.000000</td>\n",
       "      <td>0.0</td>\n",
       "      <td>3.600000e+03</td>\n",
       "      <td>2.350000e+02</td>\n",
       "      <td>100.000000</td>\n",
       "      <td>1.270000e+02</td>\n",
       "    </tr>\n",
       "    <tr>\n",
       "      <th>25%</th>\n",
       "      <td>9000.000000</td>\n",
       "      <td>0.088100</td>\n",
       "      <td>265.730000</td>\n",
       "      <td>5.000000e+04</td>\n",
       "      <td>13.890000</td>\n",
       "      <td>0.000000</td>\n",
       "      <td>0.000000</td>\n",
       "      <td>8.000000</td>\n",
       "      <td>0.000000</td>\n",
       "      <td>6293.000000</td>\n",
       "      <td>...</td>\n",
       "      <td>0.000000</td>\n",
       "      <td>1.000000</td>\n",
       "      <td>93.000000</td>\n",
       "      <td>0.000000</td>\n",
       "      <td>0.000000</td>\n",
       "      <td>0.0</td>\n",
       "      <td>6.697700e+04</td>\n",
       "      <td>2.650300e+04</td>\n",
       "      <td>11600.000000</td>\n",
       "      <td>2.288000e+04</td>\n",
       "    </tr>\n",
       "    <tr>\n",
       "      <th>50%</th>\n",
       "      <td>15000.000000</td>\n",
       "      <td>0.118000</td>\n",
       "      <td>404.560000</td>\n",
       "      <td>7.300000e+04</td>\n",
       "      <td>19.760000</td>\n",
       "      <td>0.000000</td>\n",
       "      <td>0.000000</td>\n",
       "      <td>11.000000</td>\n",
       "      <td>0.000000</td>\n",
       "      <td>12068.000000</td>\n",
       "      <td>...</td>\n",
       "      <td>0.000000</td>\n",
       "      <td>2.000000</td>\n",
       "      <td>100.000000</td>\n",
       "      <td>20.000000</td>\n",
       "      <td>0.000000</td>\n",
       "      <td>0.0</td>\n",
       "      <td>1.467100e+05</td>\n",
       "      <td>4.535700e+04</td>\n",
       "      <td>22100.000000</td>\n",
       "      <td>4.200000e+04</td>\n",
       "    </tr>\n",
       "    <tr>\n",
       "      <th>75%</th>\n",
       "      <td>24000.000000</td>\n",
       "      <td>0.155700</td>\n",
       "      <td>648.100000</td>\n",
       "      <td>1.040000e+05</td>\n",
       "      <td>26.660000</td>\n",
       "      <td>0.000000</td>\n",
       "      <td>1.000000</td>\n",
       "      <td>16.000000</td>\n",
       "      <td>0.000000</td>\n",
       "      <td>21735.000000</td>\n",
       "      <td>...</td>\n",
       "      <td>0.000000</td>\n",
       "      <td>3.000000</td>\n",
       "      <td>100.000000</td>\n",
       "      <td>50.000000</td>\n",
       "      <td>0.000000</td>\n",
       "      <td>0.0</td>\n",
       "      <td>3.036400e+05</td>\n",
       "      <td>7.657000e+04</td>\n",
       "      <td>39300.000000</td>\n",
       "      <td>7.249900e+04</td>\n",
       "    </tr>\n",
       "    <tr>\n",
       "      <th>max</th>\n",
       "      <td>40000.000000</td>\n",
       "      <td>0.308400</td>\n",
       "      <td>1676.230000</td>\n",
       "      <td>8.797500e+06</td>\n",
       "      <td>999.000000</td>\n",
       "      <td>18.000000</td>\n",
       "      <td>5.000000</td>\n",
       "      <td>72.000000</td>\n",
       "      <td>4.000000</td>\n",
       "      <td>587191.000000</td>\n",
       "      <td>...</td>\n",
       "      <td>18.000000</td>\n",
       "      <td>19.000000</td>\n",
       "      <td>100.000000</td>\n",
       "      <td>100.000000</td>\n",
       "      <td>4.000000</td>\n",
       "      <td>0.0</td>\n",
       "      <td>3.292782e+06</td>\n",
       "      <td>1.295455e+06</td>\n",
       "      <td>509400.000000</td>\n",
       "      <td>1.426964e+06</td>\n",
       "    </tr>\n",
       "  </tbody>\n",
       "</table>\n",
       "<p>8 rows × 76 columns</p>\n",
       "</div>"
      ],
      "text/plain": [
       "          loan_amnt      int_rate   installment    annual_inc           dti  \\\n",
       "count  68817.000000  68817.000000  68817.000000  6.881700e+04  68817.000000   \n",
       "mean   16677.594562      0.127718    480.652863  8.821371e+04     21.778153   \n",
       "std    10277.348590      0.048130    288.062432  1.155800e+05     20.199244   \n",
       "min     1000.000000      0.060000     30.890000  4.000000e+01      0.000000   \n",
       "25%     9000.000000      0.088100    265.730000  5.000000e+04     13.890000   \n",
       "50%    15000.000000      0.118000    404.560000  7.300000e+04     19.760000   \n",
       "75%    24000.000000      0.155700    648.100000  1.040000e+05     26.660000   \n",
       "max    40000.000000      0.308400   1676.230000  8.797500e+06    999.000000   \n",
       "\n",
       "        delinq_2yrs  inq_last_6mths      open_acc       pub_rec  \\\n",
       "count  68817.000000    68817.000000  68817.000000  68817.000000   \n",
       "mean       0.217766        0.497697     12.587340      0.126030   \n",
       "std        0.718367        0.758122      6.022869      0.336797   \n",
       "min        0.000000        0.000000      2.000000      0.000000   \n",
       "25%        0.000000        0.000000      8.000000      0.000000   \n",
       "50%        0.000000        0.000000     11.000000      0.000000   \n",
       "75%        0.000000        1.000000     16.000000      0.000000   \n",
       "max       18.000000        5.000000     72.000000      4.000000   \n",
       "\n",
       "           revol_bal  ...  num_tl_90g_dpd_24m  num_tl_op_past_12m  \\\n",
       "count   68817.000000  ...        68817.000000        68817.000000   \n",
       "mean    17604.142828  ...            0.052138            2.219423   \n",
       "std     21835.880400  ...            0.390633            1.897432   \n",
       "min         0.000000  ...            0.000000            0.000000   \n",
       "25%      6293.000000  ...            0.000000            1.000000   \n",
       "50%     12068.000000  ...            0.000000            2.000000   \n",
       "75%     21735.000000  ...            0.000000            3.000000   \n",
       "max    587191.000000  ...           18.000000           19.000000   \n",
       "\n",
       "       pct_tl_nvr_dlq  percent_bc_gt_75  pub_rec_bankruptcies  tax_liens  \\\n",
       "count    68817.000000      68817.000000          68817.000000    68817.0   \n",
       "mean        95.057627         30.626217              0.125972        0.0   \n",
       "std          8.326426         33.631463              0.336732        0.0   \n",
       "min         20.000000          0.000000              0.000000        0.0   \n",
       "25%         93.000000          0.000000              0.000000        0.0   \n",
       "50%        100.000000         20.000000              0.000000        0.0   \n",
       "75%        100.000000         50.000000              0.000000        0.0   \n",
       "max        100.000000        100.000000              4.000000        0.0   \n",
       "\n",
       "       tot_hi_cred_lim  total_bal_ex_mort  total_bc_limit  \\\n",
       "count     6.881700e+04       6.881700e+04    68817.000000   \n",
       "mean      2.100332e+05       6.133843e+04    29734.128558   \n",
       "std       1.928088e+05       5.738798e+04    26795.394232   \n",
       "min       3.600000e+03       2.350000e+02      100.000000   \n",
       "25%       6.697700e+04       2.650300e+04    11600.000000   \n",
       "50%       1.467100e+05       4.535700e+04    22100.000000   \n",
       "75%       3.036400e+05       7.657000e+04    39300.000000   \n",
       "max       3.292782e+06       1.295455e+06   509400.000000   \n",
       "\n",
       "       total_il_high_credit_limit  \n",
       "count                6.881700e+04  \n",
       "mean                 5.572240e+04  \n",
       "std                  5.095845e+04  \n",
       "min                  1.270000e+02  \n",
       "25%                  2.288000e+04  \n",
       "50%                  4.200000e+04  \n",
       "75%                  7.249900e+04  \n",
       "max                  1.426964e+06  \n",
       "\n",
       "[8 rows x 76 columns]"
      ]
     },
     "execution_count": 11,
     "metadata": {},
     "output_type": "execute_result"
    }
   ],
   "source": [
    "X.describe()"
   ]
  },
  {
   "cell_type": "code",
   "execution_count": 12,
   "metadata": {
    "tags": []
   },
   "outputs": [
    {
     "data": {
      "text/plain": [
       "(68817, 82)"
      ]
     },
     "execution_count": 12,
     "metadata": {},
     "output_type": "execute_result"
    }
   ],
   "source": [
    "X.shape"
   ]
  },
  {
   "cell_type": "code",
   "execution_count": 13,
   "metadata": {},
   "outputs": [
    {
     "data": {
      "text/plain": [
       "(68817, 92)"
      ]
     },
     "execution_count": 13,
     "metadata": {},
     "output_type": "execute_result"
    }
   ],
   "source": [
    "# use get_dummies to transform object dtypes into an integer\n",
    "X_encoded = pd.get_dummies(X)\n",
    "X_encoded.shape"
   ]
  },
  {
   "cell_type": "code",
   "execution_count": 14,
   "metadata": {},
   "outputs": [],
   "source": [
    "# Check the balance of our target values\n",
    "# y['loan_status'].value_counts()"
   ]
  },
  {
   "cell_type": "code",
   "execution_count": 15,
   "metadata": {},
   "outputs": [],
   "source": [
    "# Scale the X_encoded feature matrix\n",
    "data_scaler = StandardScaler()"
   ]
  },
  {
   "cell_type": "code",
   "execution_count": 16,
   "metadata": {},
   "outputs": [],
   "source": [
    "X_encoded_scaled = data_scaler.fit_transform(X_encoded)"
   ]
  },
  {
   "cell_type": "code",
   "execution_count": 17,
   "metadata": {},
   "outputs": [
    {
     "data": {
      "text/plain": [
       "array([[-0.60109272,  0.91798436, -0.36555835, -0.1921948 ,  0.27040056,\n",
       "        -0.30314253, -0.65649151, -0.76165917, -0.37420432, -0.73252183,\n",
       "        -0.8658573 , -0.58124513, -0.58081958, -0.50046544, -0.50029335,\n",
       "        -0.3228639 , -0.89960419, -0.03227363,  0.        ,  0.        ,\n",
       "        -0.17383528, -0.12011247,  0.        ,  0.        , -0.00589695,\n",
       "        -0.72692228,  1.67997825,  0.2392533 ,  1.19137226,  1.35299632,\n",
       "        -0.80895603, -0.13418715, -0.45717571, -0.16310175, -0.24864022,\n",
       "        -0.83203994,  0.12422197, -1.04213361, -0.24758239, -0.59166015,\n",
       "         0.75578041,  0.37274923, -0.59052419, -0.80915288,  1.04494582,\n",
       "        -0.07820908, -0.00778953, -0.56994022, -0.7981628 , -0.64845959,\n",
       "        -0.66313947, -0.8249868 , -0.14674317, -1.10824038, -0.33490355,\n",
       "        -1.13862411, -1.05103022, -1.27998521, -1.40011594,  0.06599699,\n",
       "        -1.11347944, -1.31043257, -1.0519437 , -0.75930693,  0.        ,\n",
       "         0.        , -0.13347217,  0.41138923, -1.12385485,  2.06277933,\n",
       "        -0.37410344,  0.        , -0.74865495, -0.40321335, -1.03504094,\n",
       "         0.12293632, -0.0968118 , -1.054078  , -0.34569279,  1.34013488,\n",
       "        -0.95693996,  1.29377539, -0.41678604, -0.76914635, -0.90648342,\n",
       "         2.15455915, -0.37602554,  0.37602554, -0.78814271,  0.78814271,\n",
       "         0.40290386, -0.40290386]])"
      ]
     },
     "execution_count": 17,
     "metadata": {},
     "output_type": "execute_result"
    }
   ],
   "source": [
    "# View the first row\n",
    "X_encoded_scaled[:1]"
   ]
  },
  {
   "cell_type": "code",
   "execution_count": 18,
   "metadata": {
    "tags": []
   },
   "outputs": [],
   "source": [
    "# from sklearn.model_selection import train_test_split\n",
    "X_train, X_test, y_train, y_test = train_test_split(X_encoded_scaled,y, random_state = 1)"
   ]
  },
  {
   "cell_type": "code",
   "execution_count": 19,
   "metadata": {},
   "outputs": [
    {
     "data": {
      "text/plain": [
       "low_risk     51366\n",
       "high_risk      246\n",
       "Name: loan_status, dtype: int64"
      ]
     },
     "execution_count": 19,
     "metadata": {},
     "output_type": "execute_result"
    }
   ],
   "source": [
    "# Examine y_tain counts\n",
    "y_train.value_counts()"
   ]
  },
  {
   "cell_type": "markdown",
   "metadata": {},
   "source": [
    "# Ensemble Learners\n",
    "\n",
    "In this section, you will compare two ensemble algorithms to determine which algorithm results in the best performance. You will train a Balanced Random Forest Classifier and an Easy Ensemble AdaBoost classifier . For each algorithm, be sure to complete the folliowing steps:\n",
    "\n",
    "1. Train the model using the training data. \n",
    "2. Calculate the balanced accuracy score from sklearn.metrics.\n",
    "3. Print the confusion matrix from sklearn.metrics.\n",
    "4. Generate a classication report using the `imbalanced_classification_report` from imbalanced-learn.\n",
    "5. For the Balanced Random Forest Classifier onely, print the feature importance sorted in descending order (most important feature to least important) along with the feature score\n",
    "\n",
    "Note: Use a random state of 1 for each algorithm to ensure consistency between tests"
   ]
  },
  {
   "cell_type": "markdown",
   "metadata": {},
   "source": [
    "### Balanced Random Forest Classifier"
   ]
  },
  {
   "cell_type": "code",
   "execution_count": 20,
   "metadata": {},
   "outputs": [],
   "source": [
    "# Resample the training data with the BalancedRandomForestClassifier\n",
    "\n",
    "# Model\n",
    "brf_model = BalancedRandomForestClassifier(n_estimators=100, random_state=1)\n",
    "\n",
    "# Fit\n",
    "brf_model = brf_model.fit(X_train, y_train)\n",
    "\n",
    "# Predict\n",
    "predictions = brf_model.predict(X_test)"
   ]
  },
  {
   "cell_type": "code",
   "execution_count": 21,
   "metadata": {},
   "outputs": [
    {
     "name": "stdout",
     "output_type": "stream",
     "text": [
      "The Balanced accuracy score is: 0.759\n"
     ]
    }
   ],
   "source": [
    "# Calculated the balanced accuracy score\n",
    "print(f\"The Balanced accuracy score is: {balanced_accuracy_score(y_test, predictions):.3f}\")"
   ]
  },
  {
   "cell_type": "code",
   "execution_count": 22,
   "metadata": {},
   "outputs": [
    {
     "data": {
      "text/plain": [
       "array([[   64,    37],\n",
       "       [ 1980, 15124]])"
      ]
     },
     "execution_count": 22,
     "metadata": {},
     "output_type": "execute_result"
    }
   ],
   "source": [
    "# Display the confusion matrix\n",
    "cm = confusion_matrix(y_test, predictions)\n",
    "cm"
   ]
  },
  {
   "cell_type": "code",
   "execution_count": 23,
   "metadata": {},
   "outputs": [
    {
     "data": {
      "text/plain": [
       "<sklearn.metrics._plot.confusion_matrix.ConfusionMatrixDisplay at 0x7fbb3bcdea90>"
      ]
     },
     "execution_count": 23,
     "metadata": {},
     "output_type": "execute_result"
    },
    {
     "data": {
      "image/png": "[encoded data removed]",
      "text/plain": [
       "<Figure size 640x480 with 2 Axes>"
      ]
     },
     "metadata": {},
     "output_type": "display_data"
    }
   ],
   "source": [
    "# Confusion Matrix using ConfusionMatrixDisplay\n",
    "disp = ConfusionMatrixDisplay(confusion_matrix = cm, display_labels= brf_model.classes_)\n",
    "disp.plot()"
   ]
  },
  {
   "cell_type": "code",
   "execution_count": 24,
   "metadata": {},
   "outputs": [
    {
     "name": "stdout",
     "output_type": "stream",
     "text": [
      "BalancedRandomForestClassifier\n",
      "                   pre       rec       spe        f1       geo       iba       sup\n",
      "\n",
      "  high_risk       0.03      0.63      0.88      0.06      0.75      0.55       101\n",
      "   low_risk       1.00      0.88      0.63      0.94      0.75      0.57     17104\n",
      "\n",
      "avg / total       0.99      0.88      0.64      0.93      0.75      0.57     17205\n",
      "\n"
     ]
    }
   ],
   "source": [
    "# Print the imbalanced classification report\n",
    "report = classification_report_imbalanced(y_test, predictions)\n",
    "print(\"BalancedRandomForestClassifier\")\n",
    "print(report)"
   ]
  },
  {
   "cell_type": "code",
   "execution_count": 25,
   "metadata": {},
   "outputs": [
    {
     "data": {
      "text/html": [
       "<div>\n",
       "<style scoped>\n",
       "    .dataframe tbody tr th:only-of-type {\n",
       "        vertical-align: middle;\n",
       "    }\n",
       "\n",
       "    .dataframe tbody tr th {\n",
       "        vertical-align: top;\n",
       "    }\n",
       "\n",
       "    .dataframe thead th {\n",
       "        text-align: right;\n",
       "    }\n",
       "</style>\n",
       "<table border=\"1\" class=\"dataframe\">\n",
       "  <thead>\n",
       "    <tr style=\"text-align: right;\">\n",
       "      <th></th>\n",
       "      <th>feature</th>\n",
       "      <th>importance</th>\n",
       "    </tr>\n",
       "  </thead>\n",
       "  <tbody>\n",
       "    <tr>\n",
       "      <th>0</th>\n",
       "      <td>loan_amnt</td>\n",
       "      <td>0.011204</td>\n",
       "    </tr>\n",
       "    <tr>\n",
       "      <th>1</th>\n",
       "      <td>int_rate</td>\n",
       "      <td>0.029096</td>\n",
       "    </tr>\n",
       "    <tr>\n",
       "      <th>2</th>\n",
       "      <td>installment</td>\n",
       "      <td>0.018744</td>\n",
       "    </tr>\n",
       "    <tr>\n",
       "      <th>3</th>\n",
       "      <td>annual_inc</td>\n",
       "      <td>0.015412</td>\n",
       "    </tr>\n",
       "    <tr>\n",
       "      <th>4</th>\n",
       "      <td>dti</td>\n",
       "      <td>0.017872</td>\n",
       "    </tr>\n",
       "    <tr>\n",
       "      <th>...</th>\n",
       "      <td>...</td>\n",
       "      <td>...</td>\n",
       "    </tr>\n",
       "    <tr>\n",
       "      <th>87</th>\n",
       "      <td>initial_list_status_w</td>\n",
       "      <td>0.001988</td>\n",
       "    </tr>\n",
       "    <tr>\n",
       "      <th>88</th>\n",
       "      <td>next_pymnt_d_Apr-2019</td>\n",
       "      <td>0.004364</td>\n",
       "    </tr>\n",
       "    <tr>\n",
       "      <th>89</th>\n",
       "      <td>next_pymnt_d_May-2019</td>\n",
       "      <td>0.004253</td>\n",
       "    </tr>\n",
       "    <tr>\n",
       "      <th>90</th>\n",
       "      <td>application_type_Individual</td>\n",
       "      <td>0.001842</td>\n",
       "    </tr>\n",
       "    <tr>\n",
       "      <th>91</th>\n",
       "      <td>application_type_Joint App</td>\n",
       "      <td>0.002701</td>\n",
       "    </tr>\n",
       "  </tbody>\n",
       "</table>\n",
       "<p>92 rows × 2 columns</p>\n",
       "</div>"
      ],
      "text/plain": [
       "                        feature  importance\n",
       "0                     loan_amnt    0.011204\n",
       "1                      int_rate    0.029096\n",
       "2                   installment    0.018744\n",
       "3                    annual_inc    0.015412\n",
       "4                           dti    0.017872\n",
       "..                          ...         ...\n",
       "87        initial_list_status_w    0.001988\n",
       "88        next_pymnt_d_Apr-2019    0.004364\n",
       "89        next_pymnt_d_May-2019    0.004253\n",
       "90  application_type_Individual    0.001842\n",
       "91   application_type_Joint App    0.002701\n",
       "\n",
       "[92 rows x 2 columns]"
      ]
     },
     "execution_count": 25,
     "metadata": {},
     "output_type": "execute_result"
    }
   ],
   "source": [
    "# List the features sorted in descending order by feature importance\n",
    "important_features = brf_model.feature_importances_\n",
    "\n",
    "# put this together in a dataframe\n",
    "#get the column names\n",
    "cols = X_encoded.columns\n",
    "\n",
    "# create the dataframe\n",
    "important_features_df = pd.DataFrame({'feature': cols, 'importance': important_features})\n",
    "important_features_df"
   ]
  },
  {
   "cell_type": "code",
   "execution_count": 39,
   "metadata": {
    "tags": []
   },
   "outputs": [
    {
     "data": {
      "text/html": [
       "<div>\n",
       "<style scoped>\n",
       "    .dataframe tbody tr th:only-of-type {\n",
       "        vertical-align: middle;\n",
       "    }\n",
       "\n",
       "    .dataframe tbody tr th {\n",
       "        vertical-align: top;\n",
       "    }\n",
       "\n",
       "    .dataframe thead th {\n",
       "        text-align: right;\n",
       "    }\n",
       "</style>\n",
       "<table border=\"1\" class=\"dataframe\">\n",
       "  <thead>\n",
       "    <tr style=\"text-align: right;\">\n",
       "      <th></th>\n",
       "      <th>feature</th>\n",
       "      <th>importance</th>\n",
       "    </tr>\n",
       "  </thead>\n",
       "  <tbody>\n",
       "    <tr>\n",
       "      <th>16</th>\n",
       "      <td>total_rec_int</td>\n",
       "      <td>0.067485</td>\n",
       "    </tr>\n",
       "    <tr>\n",
       "      <th>20</th>\n",
       "      <td>last_pymnt_amnt</td>\n",
       "      <td>0.065452</td>\n",
       "    </tr>\n",
       "    <tr>\n",
       "      <th>13</th>\n",
       "      <td>total_pymnt</td>\n",
       "      <td>0.060943</td>\n",
       "    </tr>\n",
       "    <tr>\n",
       "      <th>15</th>\n",
       "      <td>total_rec_prncp</td>\n",
       "      <td>0.053099</td>\n",
       "    </tr>\n",
       "    <tr>\n",
       "      <th>14</th>\n",
       "      <td>total_pymnt_inv</td>\n",
       "      <td>0.048026</td>\n",
       "    </tr>\n",
       "    <tr>\n",
       "      <th>1</th>\n",
       "      <td>int_rate</td>\n",
       "      <td>0.029096</td>\n",
       "    </tr>\n",
       "    <tr>\n",
       "      <th>53</th>\n",
       "      <td>mths_since_recent_inq</td>\n",
       "      <td>0.020169</td>\n",
       "    </tr>\n",
       "    <tr>\n",
       "      <th>84</th>\n",
       "      <td>issue_d_Jan-2019</td>\n",
       "      <td>0.019739</td>\n",
       "    </tr>\n",
       "    <tr>\n",
       "      <th>2</th>\n",
       "      <td>installment</td>\n",
       "      <td>0.018744</td>\n",
       "    </tr>\n",
       "    <tr>\n",
       "      <th>12</th>\n",
       "      <td>out_prncp_inv</td>\n",
       "      <td>0.018143</td>\n",
       "    </tr>\n",
       "  </tbody>\n",
       "</table>\n",
       "</div>"
      ],
      "text/plain": [
       "                  feature  importance\n",
       "16          total_rec_int    0.067485\n",
       "20        last_pymnt_amnt    0.065452\n",
       "13            total_pymnt    0.060943\n",
       "15        total_rec_prncp    0.053099\n",
       "14        total_pymnt_inv    0.048026\n",
       "1                int_rate    0.029096\n",
       "53  mths_since_recent_inq    0.020169\n",
       "84       issue_d_Jan-2019    0.019739\n",
       "2             installment    0.018744\n",
       "12          out_prncp_inv    0.018143"
      ]
     },
     "execution_count": 39,
     "metadata": {},
     "output_type": "execute_result"
    }
   ],
   "source": [
    "# sort in desc order\n",
    "important_features_df.sort_values('importance', ascending = False).head(10)"
   ]
  },
  {
   "cell_type": "markdown",
   "metadata": {},
   "source": [
    "### Easy Ensemble AdaBoost Classifier"
   ]
  },
  {
   "cell_type": "code",
   "execution_count": 41,
   "metadata": {},
   "outputs": [],
   "source": [
    "# Train the EasyEnsembleClassifier\n",
    "\n",
    "# Model\n",
    "ee_clf = EasyEnsembleClassifier(n_estimators=100, random_state=1)\n",
    "\n",
    "# Fit/train\n",
    "ee_clf.fit(X_train, y_train)\n",
    "\n",
    "# Predict\n",
    "y_pred = ee_clf.predict(X_test)"
   ]
  },
  {
   "cell_type": "code",
   "execution_count": 43,
   "metadata": {},
   "outputs": [
    {
     "data": {
      "text/plain": [
       "0.9319231677611166"
      ]
     },
     "execution_count": 43,
     "metadata": {},
     "output_type": "execute_result"
    }
   ],
   "source": [
    "# Calculated the balanced accuracy score\n",
    "balanced_accuracy_score(y_test, y_pred)"
   ]
  },
  {
   "cell_type": "code",
   "execution_count": 44,
   "metadata": {},
   "outputs": [
    {
     "data": {
      "text/plain": [
       "array([[   93,     8],\n",
       "       [  974, 16130]])"
      ]
     },
     "execution_count": 44,
     "metadata": {},
     "output_type": "execute_result"
    }
   ],
   "source": [
    "# Display the confusion matrix\n",
    "confusion_matrix(y_test, y_pred)"
   ]
  },
  {
   "cell_type": "code",
   "execution_count": 46,
   "metadata": {},
   "outputs": [
    {
     "data": {
      "text/plain": [
       "<sklearn.metrics._plot.confusion_matrix.ConfusionMatrixDisplay at 0x7fbb3bebab10>"
      ]
     },
     "execution_count": 46,
     "metadata": {},
     "output_type": "execute_result"
    },
    {
     "data": {
      "image/png": "[encoded data removed]",
      "text/plain": [
       "<Figure size 640x480 with 2 Axes>"
      ]
     },
     "metadata": {},
     "output_type": "display_data"
    }
   ],
   "source": [
    "disp = ConfusionMatrixDisplay(confusion_matrix = cm, display_labels= ee_clf.classes_)\n",
    "disp.plot()"
   ]
  },
  {
   "cell_type": "code",
   "execution_count": 47,
   "metadata": {},
   "outputs": [
    {
     "name": "stdout",
     "output_type": "stream",
     "text": [
      "EasyEnsembleClassifier\n",
      "                   pre       rec       spe        f1       geo       iba       sup\n",
      "\n",
      "  high_risk       0.09      0.92      0.94      0.16      0.93      0.87       101\n",
      "   low_risk       1.00      0.94      0.92      0.97      0.93      0.87     17104\n",
      "\n",
      "avg / total       0.99      0.94      0.92      0.97      0.93      0.87     17205\n",
      "\n"
     ]
    }
   ],
   "source": [
    "# Print the imbalanced classification report\n",
    "print(\"EasyEnsembleClassifier\")\n",
    "print(classification_report_imbalanced(y_test,y_pred))\n"
   ]
  },
  {
   "cell_type": "code",
   "execution_count": null,
   "metadata": {},
   "outputs": [],
   "source": []
  }
 ],
 "metadata": {
  "kernelspec": {
   "display_name": "mlenv",
   "language": "python",
   "name": "mlenv"
  },
  "language_info": {
   "codemirror_mode": {
    "name": "ipython",
    "version": 3
   },
   "file_extension": ".py",
   "mimetype": "text/x-python",
   "name": "python",
   "nbconvert_exporter": "python",
   "pygments_lexer": "ipython3",
   "version": "3.7.13"
  }
 },
 "nbformat": 4,
 "nbformat_minor": 4
}
